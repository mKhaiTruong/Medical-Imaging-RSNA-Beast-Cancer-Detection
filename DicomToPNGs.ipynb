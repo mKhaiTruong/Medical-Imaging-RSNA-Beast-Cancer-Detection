{
 "cells": [
  {
   "cell_type": "code",
   "execution_count": null,
   "id": "5b4e1e68",
   "metadata": {},
   "outputs": [],
   "source": [
    "# 1. Handle datasets\n",
    "import io\n",
    "import os\n",
    "import cv2\n",
    "import pydicom\n",
    "import dicomsdl\n",
    "import numpy as np\n",
    "import pandas as pd\n",
    "from PIL import Image\n",
    "from glob import glob\n",
    "import tifffile as tiff\n",
    "import SimpleITK as sitk\n",
    "from pathlib import Path\n",
    "from tqdm.auto import tqdm\n",
    "import multiprocessing as mp\n",
    "from collections import Counter\n",
    "from joblib import Parallel, delayed\n",
    "from pydicom.pixel_data_handlers.util import apply_voi_lut"
   ]
  },
  {
   "cell_type": "code",
   "execution_count": 35,
   "id": "1d8986f3",
   "metadata": {},
   "outputs": [
    {
     "data": {
      "text/html": [
       "<div>\n",
       "<style scoped>\n",
       "    .dataframe tbody tr th:only-of-type {\n",
       "        vertical-align: middle;\n",
       "    }\n",
       "\n",
       "    .dataframe tbody tr th {\n",
       "        vertical-align: top;\n",
       "    }\n",
       "\n",
       "    .dataframe thead th {\n",
       "        text-align: right;\n",
       "    }\n",
       "</style>\n",
       "<table border=\"1\" class=\"dataframe\">\n",
       "  <thead>\n",
       "    <tr style=\"text-align: right;\">\n",
       "      <th></th>\n",
       "      <th>site_id</th>\n",
       "      <th>patient_id</th>\n",
       "      <th>image_id</th>\n",
       "      <th>laterality</th>\n",
       "      <th>view</th>\n",
       "      <th>age</th>\n",
       "      <th>cancer</th>\n",
       "      <th>biopsy</th>\n",
       "      <th>invasive</th>\n",
       "      <th>BIRADS</th>\n",
       "      <th>implant</th>\n",
       "      <th>density</th>\n",
       "      <th>machine_id</th>\n",
       "      <th>difficult_negative_case</th>\n",
       "    </tr>\n",
       "  </thead>\n",
       "  <tbody>\n",
       "    <tr>\n",
       "      <th>0</th>\n",
       "      <td>2</td>\n",
       "      <td>10006</td>\n",
       "      <td>462822612</td>\n",
       "      <td>L</td>\n",
       "      <td>CC</td>\n",
       "      <td>61.0</td>\n",
       "      <td>0</td>\n",
       "      <td>0</td>\n",
       "      <td>0</td>\n",
       "      <td>NaN</td>\n",
       "      <td>0</td>\n",
       "      <td>NaN</td>\n",
       "      <td>29</td>\n",
       "      <td>False</td>\n",
       "    </tr>\n",
       "    <tr>\n",
       "      <th>1</th>\n",
       "      <td>2</td>\n",
       "      <td>10006</td>\n",
       "      <td>1459541791</td>\n",
       "      <td>L</td>\n",
       "      <td>MLO</td>\n",
       "      <td>61.0</td>\n",
       "      <td>0</td>\n",
       "      <td>0</td>\n",
       "      <td>0</td>\n",
       "      <td>NaN</td>\n",
       "      <td>0</td>\n",
       "      <td>NaN</td>\n",
       "      <td>29</td>\n",
       "      <td>False</td>\n",
       "    </tr>\n",
       "    <tr>\n",
       "      <th>2</th>\n",
       "      <td>2</td>\n",
       "      <td>10006</td>\n",
       "      <td>1864590858</td>\n",
       "      <td>R</td>\n",
       "      <td>MLO</td>\n",
       "      <td>61.0</td>\n",
       "      <td>0</td>\n",
       "      <td>0</td>\n",
       "      <td>0</td>\n",
       "      <td>NaN</td>\n",
       "      <td>0</td>\n",
       "      <td>NaN</td>\n",
       "      <td>29</td>\n",
       "      <td>False</td>\n",
       "    </tr>\n",
       "    <tr>\n",
       "      <th>3</th>\n",
       "      <td>2</td>\n",
       "      <td>10006</td>\n",
       "      <td>1874946579</td>\n",
       "      <td>R</td>\n",
       "      <td>CC</td>\n",
       "      <td>61.0</td>\n",
       "      <td>0</td>\n",
       "      <td>0</td>\n",
       "      <td>0</td>\n",
       "      <td>NaN</td>\n",
       "      <td>0</td>\n",
       "      <td>NaN</td>\n",
       "      <td>29</td>\n",
       "      <td>False</td>\n",
       "    </tr>\n",
       "    <tr>\n",
       "      <th>4</th>\n",
       "      <td>2</td>\n",
       "      <td>10011</td>\n",
       "      <td>220375232</td>\n",
       "      <td>L</td>\n",
       "      <td>CC</td>\n",
       "      <td>55.0</td>\n",
       "      <td>0</td>\n",
       "      <td>0</td>\n",
       "      <td>0</td>\n",
       "      <td>0.0</td>\n",
       "      <td>0</td>\n",
       "      <td>NaN</td>\n",
       "      <td>21</td>\n",
       "      <td>True</td>\n",
       "    </tr>\n",
       "  </tbody>\n",
       "</table>\n",
       "</div>"
      ],
      "text/plain": [
       "   site_id  patient_id    image_id laterality view   age  cancer  biopsy  \\\n",
       "0        2       10006   462822612          L   CC  61.0       0       0   \n",
       "1        2       10006  1459541791          L  MLO  61.0       0       0   \n",
       "2        2       10006  1864590858          R  MLO  61.0       0       0   \n",
       "3        2       10006  1874946579          R   CC  61.0       0       0   \n",
       "4        2       10011   220375232          L   CC  55.0       0       0   \n",
       "\n",
       "   invasive  BIRADS  implant density  machine_id  difficult_negative_case  \n",
       "0         0     NaN        0     NaN          29                    False  \n",
       "1         0     NaN        0     NaN          29                    False  \n",
       "2         0     NaN        0     NaN          29                    False  \n",
       "3         0     NaN        0     NaN          29                    False  \n",
       "4         0     0.0        0     NaN          21                     True  "
      ]
     },
     "execution_count": 35,
     "metadata": {},
     "output_type": "execute_result"
    }
   ],
   "source": [
    "parent_dir = r\"E:\\rsna-breast-cancer-detection\"\n",
    "df = pd.read_csv(os.path.join(parent_dir, \"train.csv\"))\n",
    "df.head()"
   ]
  },
  {
   "cell_type": "code",
   "execution_count": 45,
   "id": "8d1b5a25",
   "metadata": {},
   "outputs": [
    {
     "data": {
      "application/vnd.jupyter.widget-view+json": {
       "model_id": "3950debecaff43bea0973b7d670647bd",
       "version_major": 2,
       "version_minor": 0
      },
      "text/plain": [
       "  0%|          | 0/54706 [00:00<?, ?it/s]"
      ]
     },
     "metadata": {},
     "output_type": "display_data"
    },
    {
     "name": "stdout",
     "output_type": "stream",
     "text": [
      "✅ Done! Processed 54706 files,with 0 failures.\n"
     ]
    }
   ],
   "source": [
    "RESIZE_TO = (512, 512)\n",
    "SAVE_DIR = f\"train_image_processed_cv2_{RESIZE_TO[0]}\"\n",
    "\n",
    "# Gather all .dcm paths\n",
    "all_dcm_files = list(Path(os.path.join(parent_dir, \"train_images\")).rglob(\"*.dcm\"))\n",
    "fail_counter = Counter()\n",
    "\n",
    "def dicom_file_to_array(path):\n",
    "    dicom = pydicom.dcmread(path)\n",
    "    data = dicom.pixel_array\n",
    "    photometric = dicom.get(\"PhotometricInterpretation\")  # Cache this once\n",
    "    \n",
    "    if photometric == \"MONOCHROME1\":\n",
    "        data = np.amax(data) - data\n",
    "\n",
    "    data = (data - data.min()) / (data.max() - data.min())\n",
    "    data = cv2.resize(data, RESIZE_TO)\n",
    "    return (data * 255).astype(np.uint8)\n",
    "\n",
    "def process(path):\n",
    "    try:\n",
    "        parent_folder = path.parent.name\n",
    "        save_subdir = os.path.join(parent_dir, SAVE_DIR, parent_folder)\n",
    "        os.makedirs(save_subdir, exist_ok=True)\n",
    "\n",
    "        processed_img = dicom_file_to_array(path)\n",
    "        save_path = os.path.join(save_subdir, f\"{path.stem}.png\")\n",
    "        cv2.imwrite(save_path, processed_img)\n",
    "\n",
    "    except Exception as e:\n",
    "        print(f\"[ERROR] Failed: {path} — {e}\")\n",
    "        fail_counter[\"fail\"] += 1\n",
    "\n",
    "# Process with tqdm and joblib\n",
    "Parallel(n_jobs=16, backend=\"loky\", prefer=\"threads\")(\n",
    "    delayed(process)(path) for path in tqdm(all_dcm_files, \n",
    "                                            total=len(all_dcm_files))\n",
    ")\n",
    "\n",
    "print(f\"✅ Done! Processed {len(all_dcm_files)} files,\"\n",
    "      f\"with {fail_counter['fail']} failures.\")"
   ]
  },
  {
   "cell_type": "markdown",
   "id": "18f05410",
   "metadata": {},
   "source": [
    "We test using dicomsdl for 'test' data"
   ]
  },
  {
   "cell_type": "code",
   "execution_count": 55,
   "id": "3d477479",
   "metadata": {},
   "outputs": [
    {
     "data": {
      "application/vnd.jupyter.widget-view+json": {
       "model_id": "8abec07274b14413a38ff3620cfcff18",
       "version_major": 2,
       "version_minor": 0
      },
      "text/plain": [
       "  0%|          | 0/4 [00:00<?, ?it/s]"
      ]
     },
     "metadata": {},
     "output_type": "display_data"
    },
    {
     "name": "stdout",
     "output_type": "stream",
     "text": [
      "✅ Done! Processed 4 files,with 0 failures.\n"
     ]
    }
   ],
   "source": [
    "RESIZE_TO = (512, 512)\n",
    "SAVE_DIR = f\"test_image_processed_cv2_{RESIZE_TO[0]}\"\n",
    "\n",
    "# Gather all .dcm paths\n",
    "all_dcm_files = list(Path(os.path.join(parent_dir, \"test_images\")).rglob(\"*.dcm\"))\n",
    "fail_counter = Counter()\n",
    "\n",
    "def dicom_file_to_array(path):\n",
    "    dicom = dicomsdl.open(str(path))\n",
    "    data = dicom.pixelData()\n",
    "    photometric = dicom.getPixelDataInfo()['PhotometricInterpretation']  # Cache this once\n",
    "    \n",
    "    if photometric == \"MONOCHROME1\":\n",
    "        data = 1 - data\n",
    "\n",
    "    data = (data - data.min()) / (data.max() - data.min())\n",
    "    data = cv2.resize(data, RESIZE_TO)\n",
    "    return (data * 255).astype(np.uint8)\n",
    "\n",
    "def process(path):\n",
    "    try:\n",
    "        parent_folder = path.parent.name\n",
    "        save_subdir = os.path.join(parent_dir, SAVE_DIR, parent_folder)\n",
    "        os.makedirs(save_subdir, exist_ok=True)\n",
    "\n",
    "        processed_img = dicom_file_to_array(path)\n",
    "        save_path = os.path.join(save_subdir, f\"{path.stem}.png\")\n",
    "        cv2.imwrite(save_path, processed_img)\n",
    "\n",
    "    except Exception as e:\n",
    "        print(f\"[ERROR] Failed: {path} — {e}\")\n",
    "        fail_counter[\"fail\"] += 1\n",
    "\n",
    "# Process with tqdm and joblib\n",
    "Parallel(n_jobs=16, backend=\"loky\", prefer=\"threads\")(\n",
    "    delayed(process)(path) for path in tqdm(all_dcm_files, \n",
    "                                            total=len(all_dcm_files))\n",
    ")\n",
    "\n",
    "print(f\"✅ Done! Processed {len(all_dcm_files)} files,\"\n",
    "      f\"with {fail_counter['fail']} failures.\")"
   ]
  },
  {
   "cell_type": "markdown",
   "id": "c4f64ffe",
   "metadata": {},
   "source": [
    "Well the test only has 4 files. Lets try apply those with training datatset to see if it is faster (training + pydicom ~ 100 minutes)"
   ]
  },
  {
   "cell_type": "code",
   "execution_count": null,
   "id": "bea9f5a0",
   "metadata": {},
   "outputs": [
    {
     "data": {
      "application/vnd.jupyter.widget-view+json": {
       "model_id": "44dc5877f0d146749400bb6e82108df0",
       "version_major": 2,
       "version_minor": 0
      },
      "text/plain": [
       "  0%|          | 0/54706 [00:00<?, ?it/s]"
      ]
     },
     "metadata": {},
     "output_type": "display_data"
    },
    {
     "name": "stdout",
     "output_type": "stream",
     "text": [
      "✅ Done! Processed 54706 files,with 0 failures.\n"
     ]
    }
   ],
   "source": [
    "RESIZE_TO = 1024\n",
    "SAVE_DIR = f\"train_image_processed_dicomsdl_{RESIZE_TO}\"\n",
    "\n",
    "# Gather all .dcm paths\n",
    "all_dcm_files = list(Path(os.path.join(parent_dir, \"train_images\")).rglob(\"*.dcm\"))\n",
    "fail_counter = Counter()\n",
    "\n",
    "def image_resize(image, width = None, height = None, inter = cv2.INTER_LINEAR):\n",
    "    \n",
    "    dim = None\n",
    "    (h, w) = image.shape[:2]\n",
    "    \n",
    "    if width is None and height is None:\n",
    "        return image\n",
    "\n",
    "    if width is None:\n",
    "        r = height / float(h)\n",
    "        dim = (int(w * r), height)\n",
    "    else:\n",
    "        r = width / float(w)\n",
    "        dim = (width, int(h * r))\n",
    "    \n",
    "    resized = cv2.resize(image, dim, interpolation=inter)\n",
    "    return resized\n",
    "\n",
    "def dicom_file_to_array(path):\n",
    "    dicom = dicomsdl.open(str(path))\n",
    "    data = dicom.pixelData()\n",
    "    photometric = dicom.getPixelDataInfo()['PhotometricInterpretation']  # Cache this once\n",
    "    \n",
    "    if photometric == \"MONOCHROME1\":\n",
    "        data = 1 - data\n",
    "\n",
    "    data = (data - data.min()) / (data.max() - data.min())\n",
    "    \n",
    "    h, w = data.shape\n",
    "    if w > h:\n",
    "        data = image_resize(data, width=RESIZE_TO)\n",
    "    else:\n",
    "        data = image_resize(data, height=RESIZE_TO)\n",
    "    \n",
    "    return (data * 255).astype(np.uint8)\n",
    "\n",
    "def process(path):\n",
    "    try:\n",
    "        parent_folder = path.parent.name\n",
    "        save_subdir = os.path.join(parent_dir, SAVE_DIR, parent_folder)\n",
    "        os.makedirs(save_subdir, exist_ok=True)\n",
    "\n",
    "        processed_img = dicom_file_to_array(path)\n",
    "        save_path = os.path.join(save_subdir, f\"{path.stem}.png\")\n",
    "        cv2.imwrite(save_path, processed_img)\n",
    "\n",
    "    except Exception as e: \n",
    "        print(f\"[ERROR] Failed: {path} — {e}\")\n",
    "        fail_counter[\"fail\"] += 1\n",
    "\n",
    "# Process with tqdm and joblib\n",
    "Parallel(n_jobs=16, backend=\"loky\", prefer=\"threads\")(\n",
    "    delayed(process)(path) for path in tqdm(all_dcm_files, \n",
    "                                            total=len(all_dcm_files))\n",
    ")\n",
    "\n",
    "print(f\"✅ Done! Processed {len(all_dcm_files)} files,\"\n",
    "      f\"with {fail_counter['fail']} failures.\")"
   ]
  },
  {
   "cell_type": "markdown",
   "id": "d0d14279",
   "metadata": {},
   "source": [
    "### So even with 1024, this code runs remarkably faster"
   ]
  }
 ],
 "metadata": {
  "kernelspec": {
   "display_name": "venv",
   "language": "python",
   "name": "python3"
  },
  "language_info": {
   "codemirror_mode": {
    "name": "ipython",
    "version": 3
   },
   "file_extension": ".py",
   "mimetype": "text/x-python",
   "name": "python",
   "nbconvert_exporter": "python",
   "pygments_lexer": "ipython3",
   "version": "3.12.7"
  }
 },
 "nbformat": 4,
 "nbformat_minor": 5
}
